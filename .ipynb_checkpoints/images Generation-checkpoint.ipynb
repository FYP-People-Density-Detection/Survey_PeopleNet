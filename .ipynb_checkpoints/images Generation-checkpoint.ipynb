{
 "cells": [
  {
   "cell_type": "markdown",
   "id": "59fb365e-77e5-43f0-a9db-1bc071e6455e",
   "metadata": {
    "tags": []
   },
   "source": [
    "## Prerequisite\n",
    "\n",
    "* Tensorrt Container 20.12\n",
    "* Tao Converter\n",
    "* convert pruned 2.0 peoplenet to engine file `./tlt-converter resnet34_peoplenet_pruned.etlt -k tlt_encode -d 3,544,960 -t fp16`\n",
    "* installed opencv"
   ]
  },
  {
   "cell_type": "code",
   "execution_count": null,
   "id": "98634532-2166-44bc-81df-829b546023bc",
   "metadata": {},
   "outputs": [],
   "source": []
  }
 ],
 "metadata": {
  "kernelspec": {
   "display_name": "Python 3 (ipykernel)",
   "language": "python",
   "name": "python3"
  },
  "language_info": {
   "codemirror_mode": {
    "name": "ipython",
    "version": 3
   },
   "file_extension": ".py",
   "mimetype": "text/x-python",
   "name": "python",
   "nbconvert_exporter": "python",
   "pygments_lexer": "ipython3",
   "version": "3.8.5"
  }
 },
 "nbformat": 4,
 "nbformat_minor": 5
}
